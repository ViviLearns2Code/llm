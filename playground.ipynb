{
 "cells": [
  {
   "cell_type": "code",
   "execution_count": null,
   "metadata": {},
   "outputs": [],
   "source": [
    "import pandas as pd\n",
    "import json\n",
    "import torch\n",
    "from transformers import AutoTokenizer, AutoModel\n",
    "from torch.optim import AdamW\n",
    "from datasets import Dataset\n",
    "from torch import nn\n",
    "import numpy as np\n",
    "\n",
    "# setting device on GPU if available, else CPU\n",
    "device = torch.device('cuda' if torch.cuda.is_available() else 'cpu')\n",
    "print('Using device:', device)\n",
    "torch.cuda.empty_cache()\n",
    "print(torch.cuda.memory_summary(device=None, abbreviated=False))"
   ]
  },
  {
   "cell_type": "code",
   "execution_count": null,
   "metadata": {},
   "outputs": [],
   "source": [
    "train_raw = pd.read_csv(\"./data/train.csv\")\n",
    "train_raw.head()"
   ]
  },
  {
   "cell_type": "code",
   "execution_count": null,
   "metadata": {},
   "outputs": [],
   "source": [
    "# an access token is needed if we use models like Mistral\n",
    "def get_access_token() -> str:\n",
    "    token = \"\"\n",
    "    with open('token.txt', 'r') as f:\n",
    "        token = f.read().strip()\n",
    "    print(token)\n",
    "    return token"
   ]
  },
  {
   "cell_type": "code",
   "execution_count": null,
   "metadata": {},
   "outputs": [],
   "source": [
    "train_proc = pd.concat([train_raw['prompt'].apply(json.loads), train_raw['response_a'].apply(json.loads), train_raw['response_b'].apply(json.loads), train_raw['winner_model_a'].astype(np.float32), train_raw['winner_model_b'].astype(np.float32), train_raw['winner_tie'].astype(np.float32)], axis=1)\n",
    "train_proc.head()"
   ]
  },
  {
   "cell_type": "code",
   "execution_count": null,
   "metadata": {},
   "outputs": [],
   "source": [
    "print(train_proc['prompt'].apply(len).max(), train_proc['prompt'].apply(len).min())\n",
    "print(train_proc['response_a'].apply(len).max(), train_proc['response_a'].apply(len).min())\n",
    "print(train_proc['response_b'].apply(len).max(), train_proc['response_b'].apply(len).min())\n",
    "all(train_proc['response_b'].apply(len)==train_proc['response_a'].apply(len)) and all(train_proc['response_b'].apply(len)==train_proc['prompt'].apply(len))"
   ]
  },
  {
   "cell_type": "code",
   "execution_count": null,
   "metadata": {},
   "outputs": [],
   "source": [
    "train = train_proc.explode(['prompt', 'response_a', 'response_b'])\n",
    "train.head()"
   ]
  },
  {
   "cell_type": "code",
   "execution_count": null,
   "metadata": {},
   "outputs": [],
   "source": [
    "train['response_a'].isna().sum(), train['response_b'].isna().sum()"
   ]
  },
  {
   "cell_type": "code",
   "execution_count": null,
   "metadata": {},
   "outputs": [],
   "source": [
    "train.fillna(\"\",inplace=True)\n",
    "train['response_a'].isna().sum(), train['response_b'].isna().sum()"
   ]
  },
  {
   "cell_type": "code",
   "execution_count": null,
   "metadata": {},
   "outputs": [],
   "source": [
    "# optimizations are possible by moving computation to GPU and using flash attention\n",
    "# we just use cpu\n",
    "tokenizer = AutoTokenizer.from_pretrained('distilbert/distilbert-base-uncased')\n",
    "\n",
    "train['combined_a'] = train.apply(lambda x: x['prompt'] + tokenizer.sep_token + x['response_a'], axis=1)\n",
    "train['combined_b'] = train.apply(lambda x: x['prompt'] + tokenizer.sep_token + x['response_b'], axis=1)"
   ]
  },
  {
   "cell_type": "code",
   "execution_count": null,
   "metadata": {},
   "outputs": [],
   "source": [
    "train.drop(['prompt', 'response_a', 'response_b'])\n",
    "train.to_pickle(\"./data/train_final.pkl\")\n",
    "del train_raw\n",
    "del train_proc\n",
    "del train\n",
    "import gc\n",
    "gc.collect()"
   ]
  },
  {
   "cell_type": "code",
   "execution_count": null,
   "metadata": {},
   "outputs": [],
   "source": [
    "train = pd.read_pickle(\"./data/train_final.pkl\")"
   ]
  },
  {
   "cell_type": "code",
   "execution_count": null,
   "metadata": {},
   "outputs": [],
   "source": [
    "def create_torch_dataloader(df, tokenizer, batch_size):\n",
    "    def encode(batch):\n",
    "        # tokenizer.__call__ will give ids\n",
    "        resultA = tokenizer(batch['combined_a'], return_tensors=\"pt\", padding='max_length', truncation=True)\n",
    "        resultB = tokenizer(batch['combined_b'], return_tensors=\"pt\", padding='max_length', truncation=True)\n",
    "        result = {\n",
    "            'input_ids_a': resultA[\"input_ids\"],\n",
    "            'attention_mask_a': resultA[\"attention_mask\"],\n",
    "            'input_ids_b': resultB[\"input_ids\"],\n",
    "            'attention_mask_b': resultB[\"attention_mask\"],\n",
    "            'winner_a': batch['winner_model_a'], \n",
    "            'winner_b': batch['winner_model_b'],\n",
    "            'tie': batch['winner_tie'], \n",
    "        }\n",
    "        return result\n",
    "\n",
    "    dataset = Dataset.from_pandas(df[['combined_a', 'combined_b', 'winner_model_a', 'winner_model_b', 'winner_tie']])\n",
    "    # tokenization is only applied when examples are accessed\n",
    "    dataset_tf = dataset.with_transform(encode)\n",
    "    dataset_tf.with_format(type='torch')\n",
    "    return torch.utils.data.DataLoader(dataset_tf, batch_size=batch_size)\n"
   ]
  },
  {
   "cell_type": "code",
   "execution_count": null,
   "metadata": {},
   "outputs": [],
   "source": [
    "tokenizer = AutoTokenizer.from_pretrained('distilbert/distilbert-base-uncased')\n",
    "\n",
    "dl = create_torch_dataloader(train, tokenizer, 5)"
   ]
  },
  {
   "cell_type": "code",
   "execution_count": null,
   "metadata": {},
   "outputs": [],
   "source": [
    "class MyModel(nn.Module):\n",
    "    def __init__(self):\n",
    "        super().__init__()\n",
    "        # models are stored in /home/<user>/.cache/huggingface\n",
    "        # find /home/<user> -type d -name huggingface\n",
    "        # batch_size x sequence_length x embedding_size\n",
    "        self.llm = AutoModel.from_pretrained(\"distilbert/distilbert-base-uncased\")\n",
    "        # CLS token: batch_size x 1 x 768\n",
    "        self.linear_relu_stack = nn.Sequential(\n",
    "            nn.Linear(2*768, 768),\n",
    "            nn.Dropout(0.5),\n",
    "            nn.ReLU(),\n",
    "            nn.Linear(768, 3),\n",
    "        )\n",
    "\n",
    "    def forward(self, x):\n",
    "        hidden_state_a = self.llm(x[\"input_ids_a\"], attention_mask=x[\"attention_mask_a\"]).last_hidden_state\n",
    "        hidden_state_b = self.llm(x[\"input_ids_b\"], attention_mask=x[\"attention_mask_b\"]).last_hidden_state\n",
    "        concat_state = torch.concat((hidden_state_a[:,0,:], hidden_state_b[:,0,:]), 1)\n",
    "        out = self.linear_relu_stack(concat_state)\n",
    "        return out"
   ]
  },
  {
   "cell_type": "code",
   "execution_count": null,
   "metadata": {},
   "outputs": [],
   "source": [
    "model = MyModel()\n",
    "print(model)"
   ]
  },
  {
   "cell_type": "code",
   "execution_count": null,
   "metadata": {},
   "outputs": [],
   "source": [
    "def training(epochs: int, dataloader, model) -> None:\n",
    "    loss_fn = nn.CrossEntropyLoss()\n",
    "    optimizer = AdamW(model.parameters())\n",
    "    model#.to(device)\n",
    "    model.train()\n",
    "    for i in range(epochs):\n",
    "        for j, batch in enumerate(dataloader):        \n",
    "            #for k, v in batch.items():\n",
    "            #    batch[k] = v.to(device)\n",
    "            target = torch.stack((batch[\"winner_a\"],batch[\"winner_b\"],batch[\"tie\"]),1)\n",
    "            output = model(batch)\n",
    "            loss = loss_fn(output, target)\n",
    "            print(f\"epoch {i} - batch {j} - loss: {loss}\")\n",
    "            optimizer.zero_grad()\n",
    "            loss.backward()\n",
    "            optimizer.step()"
   ]
  },
  {
   "cell_type": "code",
   "execution_count": null,
   "metadata": {},
   "outputs": [],
   "source": [
    "training(1, dl, model)"
   ]
  }
 ],
 "metadata": {
  "kernelspec": {
   "display_name": "venv",
   "language": "python",
   "name": "python3"
  },
  "language_info": {
   "codemirror_mode": {
    "name": "ipython",
    "version": 3
   },
   "file_extension": ".py",
   "mimetype": "text/x-python",
   "name": "python",
   "nbconvert_exporter": "python",
   "pygments_lexer": "ipython3",
   "version": "3.8.10"
  }
 },
 "nbformat": 4,
 "nbformat_minor": 2
}
