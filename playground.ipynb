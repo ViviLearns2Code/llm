{
 "cells": [
  {
   "cell_type": "code",
   "execution_count": null,
   "metadata": {},
   "outputs": [],
   "source": [
    "import pandas as pd\n",
    "import json\n",
    "import torch\n",
    "from transformers import AutoTokenizer, AutoModel\n",
    "from datasets import Dataset\n",
    "from torch import nn\n",
    "import numpy as np\n",
    "import matplotlib.pyplot as plt\n",
    "import gc\n",
    "\n",
    "\n",
    "# setting device on GPU if available, else CPU\n",
    "device = torch.device('cuda' if torch.cuda.is_available() else 'cpu')\n",
    "print('Using device:', device)\n",
    "if torch.cuda.is_available():\n",
    "  with torch.cuda.device(device):\n",
    "    torch.cuda.empty_cache()\n",
    "    print(torch.cuda.memory_summary(device=None, abbreviated=False))"
   ]
  },
  {
   "cell_type": "markdown",
   "metadata": {},
   "source": [
    "# Data Preprocessing"
   ]
  },
  {
   "cell_type": "code",
   "execution_count": null,
   "metadata": {},
   "outputs": [],
   "source": [
    "train_raw = pd.read_csv(\"./data/train.csv\")\n",
    "train_raw.head()"
   ]
  },
  {
   "cell_type": "code",
   "execution_count": null,
   "metadata": {},
   "outputs": [],
   "source": [
    "# an access token is needed if we use models like Mistral\n",
    "def get_access_token() -> str:\n",
    "    token = \"\"\n",
    "    with open('token.txt', 'r') as f:\n",
    "        token = f.read().strip()\n",
    "    print(token)\n",
    "    return token"
   ]
  },
  {
   "cell_type": "code",
   "execution_count": null,
   "metadata": {},
   "outputs": [],
   "source": [
    "train_proc = pd.concat([train_raw['prompt'].apply(json.loads), train_raw['response_a'].apply(json.loads), train_raw['response_b'].apply(json.loads), train_raw['winner_model_a'].astype(np.float32), train_raw['winner_model_b'].astype(np.float32), train_raw['winner_tie'].astype(np.float32)], axis=1)\n",
    "train_proc.head()"
   ]
  },
  {
   "cell_type": "code",
   "execution_count": null,
   "metadata": {},
   "outputs": [],
   "source": [
    "print(train_proc['prompt'].apply(len).max(), train_proc['prompt'].apply(len).min())\n",
    "print(train_proc['response_a'].apply(len).max(), train_proc['response_a'].apply(len).min())\n",
    "print(train_proc['response_b'].apply(len).max(), train_proc['response_b'].apply(len).min())\n",
    "all(train_proc['response_b'].apply(len)==train_proc['response_a'].apply(len)) and all(train_proc['response_b'].apply(len)==train_proc['prompt'].apply(len))"
   ]
  },
  {
   "cell_type": "code",
   "execution_count": null,
   "metadata": {},
   "outputs": [],
   "source": [
    "train = train_proc.explode(['prompt', 'response_a', 'response_b'])\n",
    "train.head()"
   ]
  },
  {
   "cell_type": "code",
   "execution_count": null,
   "metadata": {},
   "outputs": [],
   "source": [
    "train['response_a'].isna().sum(), train['response_b'].isna().sum()"
   ]
  },
  {
   "cell_type": "code",
   "execution_count": null,
   "metadata": {},
   "outputs": [],
   "source": [
    "train.fillna(\"\",inplace=True)\n",
    "train['response_a'].isna().sum(), train['response_b'].isna().sum()"
   ]
  },
  {
   "cell_type": "code",
   "execution_count": null,
   "metadata": {},
   "outputs": [],
   "source": [
    "# optimizations are possible by moving computation to GPU and using flash attention\n",
    "# we just use cpu\n",
    "tokenizer = AutoTokenizer.from_pretrained('distilbert/distilbert-base-uncased')\n",
    "\n",
    "train['combined_a'] = train.apply(lambda x: x['prompt'] + tokenizer.sep_token + x['response_a'], axis=1)\n",
    "train['combined_b'] = train.apply(lambda x: x['prompt'] + tokenizer.sep_token + x['response_b'], axis=1)"
   ]
  },
  {
   "cell_type": "code",
   "execution_count": null,
   "metadata": {},
   "outputs": [],
   "source": [
    "train.drop(['prompt', 'response_a', 'response_b'], axis=1, inplace=True)\n",
    "train.to_pickle(\"./data/train_final.pkl\")\n",
    "del train_raw\n",
    "del train_proc\n",
    "del train\n",
    "gc.collect()"
   ]
  },
  {
   "cell_type": "markdown",
   "metadata": {},
   "source": [
    "# Training"
   ]
  },
  {
   "cell_type": "code",
   "execution_count": null,
   "metadata": {},
   "outputs": [],
   "source": [
    "#pd.set_option('display.max_colwidth', None)\n",
    "train = pd.read_pickle(\"./data/train_final.pkl\")\n",
    "train.head()"
   ]
  },
  {
   "cell_type": "code",
   "execution_count": null,
   "metadata": {},
   "outputs": [],
   "source": [
    "def create_torch_dataloader(df, tokenizer, batch_size):\n",
    "    def encode(batch):\n",
    "        # tokenizer.__call__ will give ids\n",
    "        resultA = tokenizer(batch['combined_a'], return_tensors=\"pt\", padding='max_length', truncation=True)\n",
    "        resultB = tokenizer(batch['combined_b'], return_tensors=\"pt\", padding='max_length', truncation=True)\n",
    "        result = {\n",
    "            'input_ids_a': resultA[\"input_ids\"],\n",
    "            'attention_mask_a': resultA[\"attention_mask\"],\n",
    "            'input_ids_b': resultB[\"input_ids\"],\n",
    "            'attention_mask_b': resultB[\"attention_mask\"],\n",
    "            'winner_a': batch['winner_model_a'], \n",
    "            'winner_b': batch['winner_model_b'],\n",
    "            'tie': batch['winner_tie'], \n",
    "        }\n",
    "        return result\n",
    "\n",
    "    dataset = Dataset.from_pandas(df[['combined_a', 'combined_b', 'winner_model_a', 'winner_model_b', 'winner_tie']])\n",
    "    # tokenization is only applied when examples are accessed\n",
    "    dataset_tf = dataset.with_transform(encode)\n",
    "    dataset_tf.with_format(type='torch')\n",
    "    return torch.utils.data.DataLoader(dataset_tf, batch_size=batch_size)\n"
   ]
  },
  {
   "cell_type": "code",
   "execution_count": null,
   "metadata": {},
   "outputs": [],
   "source": [
    "tokenizer = AutoTokenizer.from_pretrained('distilbert/distilbert-base-uncased')\n",
    "\n",
    "dl = create_torch_dataloader(train, tokenizer, 2)"
   ]
  },
  {
   "cell_type": "code",
   "execution_count": null,
   "metadata": {},
   "outputs": [],
   "source": [
    "class MyModel(nn.Module):\n",
    "    def __init__(self):\n",
    "        super().__init__()\n",
    "        # models are stored in /home/<user>/.cache/huggingface\n",
    "        # find /home/<user> -type d -name huggingface\n",
    "        # batch_size x sequence_length x embedding_size\n",
    "        self.llm = AutoModel.from_pretrained(\"distilbert/distilbert-base-uncased\")\n",
    "        # CLS token: batch_size x 1 x 768\n",
    "        self.linear_relu_stack = nn.Sequential(\n",
    "            nn.Linear(2*768, 3),\n",
    "            nn.Dropout(0.1),\n",
    "        )\n",
    "\n",
    "    def forward(self, input_a, attention_a, input_b, attention_b):\n",
    "        hidden_state_a = self.llm(input_a, attention_mask=attention_a).last_hidden_state\n",
    "        hidden_state_b = self.llm(input_b, attention_mask=attention_b).last_hidden_state\n",
    "        concat_state = torch.concat((hidden_state_a[:,0,:], hidden_state_b[:,0,:]), 1)\n",
    "        out = self.linear_relu_stack(concat_state)\n",
    "        return out"
   ]
  },
  {
   "cell_type": "code",
   "execution_count": null,
   "metadata": {},
   "outputs": [],
   "source": [
    "#https://huggingface.co/distilbert/distilbert-base-uncased/discussions/11\n",
    "# DistilBert with 66mio params should use 0,5GB + FC layer\n",
    "model = MyModel()"
   ]
  },
  {
   "cell_type": "code",
   "execution_count": null,
   "metadata": {},
   "outputs": [],
   "source": [
    "# memory consumption:\n",
    "# number of params in model: DistilBert with 66mio params should use 0,5GB + FC layer\n",
    "# x2 for autograd nodes\n",
    "# batch tensor: <batch_size>*512*768*8*4 (12MB per sample)\n",
    "# + 600MiB for bootstrapping GPU use for pytorch: https://stackoverflow.com/questions/62547072/why-does-pytorch-use-so-much-gpu-memory-to-store-tensors\n",
    "def training(epochs: int, dataloader, model):\n",
    "    loss_fn = nn.CrossEntropyLoss(reduction=\"mean\")\n",
    "    optimizer = torch.optim.AdamW(model.parameters())\n",
    "    plot_pts = []\n",
    "    model.to(device)\n",
    "    model.train()\n",
    "    for i in range(epochs):\n",
    "        for j, batch in enumerate(dataloader):\n",
    "            print(\"batching\")\n",
    "            # batch should use \n",
    "            batch['input_ids_a'].to(device)\n",
    "            batch['attention_mask_a'].to(device)\n",
    "            batch['input_ids_b'].to(device)\n",
    "            batch['attention_mask_b'].to(device)\n",
    "            for k, v in batch.items():\n",
    "                if k in ['input_ids_a', 'input_ids_b', 'attention_mask_a', 'attention_mask_b']:\n",
    "                  batch[k] = v.to(device)\n",
    "            target = torch.stack((batch[\"winner_a\"],batch[\"winner_b\"],batch[\"tie\"]),1).to(device)\n",
    "            output = model(batch['input_ids_a'],batch['attention_mask_a'],batch['input_ids_b'],batch['attention_mask_b'])\n",
    "            loss = loss_fn(output, target)\n",
    "            if j % 1 == 0:\n",
    "              print(f\"epoch {i} - batch {j} - loss: {loss}\")\n",
    "            optimizer.zero_grad()\n",
    "            loss.backward()\n",
    "            optimizer.step()\n",
    "            plot_pts.append(loss.item())\n",
    "            loss.cpu()\n",
    "            del batch['input_ids_a'], batch['attention_mask_a'], batch['input_ids_b'], batch['attention_mask_b'],batch[\"winner_a\"],batch[\"winner_b\"],batch[\"tie\"]\n",
    "            del batch, target, output, loss\n",
    "            gc.collect()\n",
    "            if device == 'cpu':\n",
    "              continue\n",
    "            else:\n",
    "              with torch.cuda.device(device):\n",
    "                torch.cuda.empty_cache()\n",
    "    return plot_pts"
   ]
  },
  {
   "cell_type": "code",
   "execution_count": null,
   "metadata": {},
   "outputs": [],
   "source": [
    "plot_pts = training(1, dl, model)"
   ]
  },
  {
   "cell_type": "code",
   "execution_count": null,
   "metadata": {},
   "outputs": [],
   "source": [
    "print(plot_pts)\n",
    "plt.plot(plot_pts)\n",
    "plt.show()"
   ]
  },
  {
   "cell_type": "code",
   "execution_count": null,
   "metadata": {},
   "outputs": [],
   "source": [
    "del model\n",
    "gc.collect()\n",
    "torch.cuda.empty_cache()"
   ]
  },
  {
   "cell_type": "code",
   "execution_count": null,
   "metadata": {},
   "outputs": [],
   "source": []
  },
  {
   "cell_type": "code",
   "execution_count": null,
   "metadata": {},
   "outputs": [],
   "source": []
  }
 ],
 "metadata": {
  "kernelspec": {
   "display_name": "venv",
   "language": "python",
   "name": "python3"
  },
  "language_info": {
   "codemirror_mode": {
    "name": "ipython",
    "version": 3
   },
   "file_extension": ".py",
   "mimetype": "text/x-python",
   "name": "python",
   "nbconvert_exporter": "python",
   "pygments_lexer": "ipython3",
   "version": "3.8.10"
  }
 },
 "nbformat": 4,
 "nbformat_minor": 2
}
